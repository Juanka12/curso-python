{
 "cells": [
  {
   "cell_type": "code",
   "execution_count": 4,
   "id": "f102b199-20bd-4d26-9bb4-44ccade18837",
   "metadata": {},
   "outputs": [],
   "source": [
    "def table(value):\n",
    "    for i in range(11):\n",
    "        print(\"{} * {} = {}\".format(value, i,i*value))"
   ]
  },
  {
   "cell_type": "code",
   "execution_count": 5,
   "id": "37f3575b-95ac-4aa9-85b0-ba41ec7868a3",
   "metadata": {},
   "outputs": [
    {
     "name": "stdout",
     "output_type": "stream",
     "text": [
      "2 * 0 = 0\n",
      "2 * 1 = 2\n",
      "2 * 2 = 4\n",
      "2 * 3 = 6\n",
      "2 * 4 = 8\n",
      "2 * 5 = 10\n",
      "2 * 6 = 12\n",
      "2 * 7 = 14\n",
      "2 * 8 = 16\n",
      "2 * 9 = 18\n",
      "2 * 10 = 20\n"
     ]
    }
   ],
   "source": [
    "table(2)"
   ]
  },
  {
   "cell_type": "code",
   "execution_count": null,
   "id": "90b09bbf-4fa1-4374-acef-92f1a6b78c1c",
   "metadata": {},
   "outputs": [],
   "source": []
  }
 ],
 "metadata": {
  "kernelspec": {
   "display_name": "Python 3 (ipykernel)",
   "language": "python",
   "name": "python3"
  },
  "language_info": {
   "codemirror_mode": {
    "name": "ipython",
    "version": 3
   },
   "file_extension": ".py",
   "mimetype": "text/x-python",
   "name": "python",
   "nbconvert_exporter": "python",
   "pygments_lexer": "ipython3",
   "version": "3.9.13"
  }
 },
 "nbformat": 4,
 "nbformat_minor": 5
}
