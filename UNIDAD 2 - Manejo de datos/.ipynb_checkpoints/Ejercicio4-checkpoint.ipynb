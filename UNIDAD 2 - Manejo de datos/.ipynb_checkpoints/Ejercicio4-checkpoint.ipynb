{
 "cells": [
  {
   "cell_type": "markdown",
   "id": "97927c9e-5c3b-4978-bfb2-e1af99eb89ec",
   "metadata": {},
   "source": [
    "### Ejercicio 4 Colecciones Colegio"
   ]
  },
  {
   "cell_type": "markdown",
   "id": "f2c22006-20f9-46f8-93c0-f60d59638d5d",
   "metadata": {},
   "source": [
    "Colegio con 3 aulas vacias.\n",
    "\n",
    "1. Insertar alumno --> En que aula quieres insertar --> dni, nombre, apellidos\n",
    "2. Mostrar alumnos colegio --> Todos los alumnos por aula\n",
    "3. Mostrar alumnos aula --> Que aula quieres mostrar --> todos los alumnos del aula\n",
    "4. Buscar alumno --> Insertard dni --> en que aula se encuentra y mostrar\n",
    "5. Salir"
   ]
  },
  {
   "cell_type": "code",
   "execution_count": 36,
   "id": "a00117ba-1402-4b59-82bf-7451e8c95dbb",
   "metadata": {},
   "outputs": [
    {
     "name": "stdout",
     "output_type": "stream",
     "text": [
      "1. Insertar alumno\n",
      "2. Mostrar alumnos del colegio\n",
      "3. Mostrar alumnos del aula\n",
      "4. Buscar alumno por DNI\n",
      "5. Salir\n",
      "\n"
     ]
    },
    {
     "name": "stdin",
     "output_type": "stream",
     "text": [
      "Introduce una opcion:  1\n"
     ]
    },
    {
     "name": "stdout",
     "output_type": "stream",
     "text": [
      "Has seleccionado la opcion 1\n",
      "\n"
     ]
    },
    {
     "name": "stdin",
     "output_type": "stream",
     "text": [
      "En que aula quieres insertar:  1\n",
      "Introduce un DNI:  55\n",
      "Introduce un nombre:  jans\n",
      "Introduce un apellido sdsd\n"
     ]
    },
    {
     "name": "stdout",
     "output_type": "stream",
     "text": [
      "Alumno agregado correctamente.\n",
      "\n",
      "1. Insertar alumno\n",
      "2. Mostrar alumnos del colegio\n",
      "3. Mostrar alumnos del aula\n",
      "4. Buscar alumno por DNI\n",
      "5. Salir\n",
      "\n"
     ]
    },
    {
     "name": "stdin",
     "output_type": "stream",
     "text": [
      "Introduce una opcion:  4\n"
     ]
    },
    {
     "name": "stdout",
     "output_type": "stream",
     "text": [
      "Has seleccionado la opcion 4\n",
      "\n"
     ]
    },
    {
     "name": "stdin",
     "output_type": "stream",
     "text": [
      "Que alumno quieres mostrar:  55\n"
     ]
    },
    {
     "name": "stdout",
     "output_type": "stream",
     "text": [
      "Aula1\n",
      "55 jans sdsd\n",
      "\n",
      "1. Insertar alumno\n",
      "2. Mostrar alumnos del colegio\n",
      "3. Mostrar alumnos del aula\n",
      "4. Buscar alumno por DNI\n",
      "5. Salir\n",
      "\n"
     ]
    },
    {
     "name": "stdin",
     "output_type": "stream",
     "text": [
      "Introduce una opcion:  5\n"
     ]
    },
    {
     "name": "stdout",
     "output_type": "stream",
     "text": [
      "Has seleccionado la opcion 5\n",
      "\n",
      "Adios\n"
     ]
    }
   ],
   "source": [
    "completed = False\n",
    "msg = \"Has seleccionado la opcion \"\n",
    "colegio = {\"Aula1\":{}, \"Aula2\":{}, \"Aula3\": {}}\n",
    "\n",
    "while not completed:\n",
    "    print(\"1. Insertar alumno\")\n",
    "    print(\"2. Mostrar alumnos del colegio\")\n",
    "    print(\"3. Mostrar alumnos del aula\")\n",
    "    print(\"4. Buscar alumno por DNI\")\n",
    "    print(\"5. Salir\")\n",
    "    print()\n",
    "    option = int(input(\"Introduce una opcion: \"))\n",
    "    if option == 1:\n",
    "        print(msg + str(option))\n",
    "        print()\n",
    "        aula = int(input(\"En que aula quieres insertar: \"))\n",
    "        if aula <= 0 or aula > 3:\n",
    "            print(\"Aula no existe.\")\n",
    "            print()\n",
    "            continue\n",
    "        dni = input(\"Introduce un DNI: \")\n",
    "        name = input(\"Introduce un nombre: \")\n",
    "        surname = input(\"Introduce un apellido\")\n",
    "        colegio[\"Aula\"+str(aula)] = {dni : [name, surname]}\n",
    "        print(\"Alumno agregado correctamente.\")\n",
    "        print()\n",
    "    elif option == 2:\n",
    "        print(msg + str(option))\n",
    "        print()\n",
    "        for aula in colegio:\n",
    "            print(aula)\n",
    "            for c,v in colegio[aula].items():\n",
    "                print(c,v[0], v[1])\n",
    "            print()\n",
    "    elif option == 3:\n",
    "        print(msg + str(option))\n",
    "        print()\n",
    "        aula = int(input(\"Que aula quieres mostrar: \"))\n",
    "        print(\"Aula\"+str(aula))\n",
    "        for c,v in colegio[\"Aula\"+str(aula)].items():\n",
    "            print(c,v[0], v[1])\n",
    "        print()\n",
    "    elif option == 4:\n",
    "        print(msg + str(option))\n",
    "        print()\n",
    "        dni = input(\"Que alumno quieres mostrar: \")\n",
    "        for aula in colegio:\n",
    "            for c,v in colegio[aula].items():\n",
    "                if c == dni:\n",
    "                    print(aula)\n",
    "                    print(c,v[0], v[1])\n",
    "                    print()\n",
    "                    break\n",
    "    elif option == 5:\n",
    "        print(msg + str(option))\n",
    "        print()\n",
    "        completed = True\n",
    "    else:\n",
    "        print(\"Opcion incorrecta\")\n",
    "else:\n",
    "    print(\"Adios\")"
   ]
  },
  {
   "cell_type": "code",
   "execution_count": null,
   "id": "32723f42-6f5f-45b2-bb60-a11a5e779cdc",
   "metadata": {},
   "outputs": [],
   "source": []
  }
 ],
 "metadata": {
  "kernelspec": {
   "display_name": "Python 3 (ipykernel)",
   "language": "python",
   "name": "python3"
  },
  "language_info": {
   "codemirror_mode": {
    "name": "ipython",
    "version": 3
   },
   "file_extension": ".py",
   "mimetype": "text/x-python",
   "name": "python",
   "nbconvert_exporter": "python",
   "pygments_lexer": "ipython3",
   "version": "3.9.13"
  }
 },
 "nbformat": 4,
 "nbformat_minor": 5
}
