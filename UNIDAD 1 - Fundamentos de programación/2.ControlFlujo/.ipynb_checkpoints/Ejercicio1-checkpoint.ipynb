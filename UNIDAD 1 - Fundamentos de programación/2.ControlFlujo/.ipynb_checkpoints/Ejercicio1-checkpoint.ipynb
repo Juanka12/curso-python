{
 "cells": [
  {
   "cell_type": "markdown",
   "id": "3986d283-ba45-4ac7-b366-38fde2318121",
   "metadata": {
    "tags": []
   },
   "source": [
    "## Ejercicio1"
   ]
  },
  {
   "cell_type": "markdown",
   "id": "6f1860cf-6f91-4051-b4bc-edc2c63495f9",
   "metadata": {},
   "source": [
    "Pintar menu mientras que la opcion sea diferente de 4.\n",
    "\n",
    "1. Pintar cuadrado --> \"Has seleccionado la opcion 1\"\n",
    "2. Validar email --> \"Has seleccionado la opcion 2\"\n",
    "3. Insertar alumnos --> \"Has seleccionado la opcion 3\"\n",
    "4. Salir --> \"Has seleccionado la opcion 4. Adios\"\n",
    "\n",
    "Otra opcion --> \"Opcion incorrecta\" y repetir bucle.\n",
    "\n",
    "Seleccione una opcion:"
   ]
  },
  {
   "cell_type": "code",
   "execution_count": 19,
   "id": "f6b0b111-d0f2-43ac-9a0b-81f5f276dbeb",
   "metadata": {},
   "outputs": [
    {
     "name": "stdin",
     "output_type": "stream",
     "text": [
      "Introduce una opcion:  4\n"
     ]
    },
    {
     "name": "stdout",
     "output_type": "stream",
     "text": [
      "Has seleccionado la opcion 4.\n",
      "Adios\n"
     ]
    }
   ],
   "source": [
    "completed = False\n",
    "while not completed:\n",
    "    option = int(input(\"Introduce una opcion: \"))\n",
    "    if option == 1:\n",
    "        print(\"Has seleccionado la opcion 1\")\n",
    "    elif option == 2:\n",
    "        print(\"Has seleccionado la opcion 2\")\n",
    "    elif option == 3:\n",
    "        print(\"Has seleccionado la opcion 3\")\n",
    "    elif option == 4:\n",
    "        print(\"Has seleccionado la opcion 4.\")\n",
    "        completed = True\n",
    "    else:\n",
    "        print(\"Opcion incorrecta\")\n",
    "else:\n",
    "    print(\"Adios\")"
   ]
  },
  {
   "cell_type": "code",
   "execution_count": null,
   "id": "c306fd56-a61b-4703-9678-147c0aabb015",
   "metadata": {},
   "outputs": [],
   "source": []
  }
 ],
 "metadata": {
  "kernelspec": {
   "display_name": "Python 3 (ipykernel)",
   "language": "python",
   "name": "python3"
  },
  "language_info": {
   "codemirror_mode": {
    "name": "ipython",
    "version": 3
   },
   "file_extension": ".py",
   "mimetype": "text/x-python",
   "name": "python",
   "nbconvert_exporter": "python",
   "pygments_lexer": "ipython3",
   "version": "3.9.13"
  }
 },
 "nbformat": 4,
 "nbformat_minor": 5
}
