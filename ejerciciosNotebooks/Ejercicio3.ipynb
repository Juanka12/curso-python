{
 "cells": [
  {
   "cell_type": "markdown",
   "id": "5fcae416-d591-4a90-ac8a-9de6e4f2a14e",
   "metadata": {},
   "source": [
    "## Ejercicio3"
   ]
  },
  {
   "cell_type": "markdown",
   "id": "8dbd6e4f-372c-48f5-becf-a6eca6983220",
   "metadata": {},
   "source": [
    "Lista con 3 emails, validar cada uno, si uno no es valido se indica que no lo es y los motivos de por que no es correcto.\n",
    "- No puede tener espacios en blanco\n",
    "- Debe tener una sola @\n",
    "- Despues de la @ tiene que haber un punto\n",
    "- La distancia entre @ y punto tiene que ser al menos 2 caracteres\n",
    "- Despues del ultimo punto tiene que haber entre 2 y 5 caracteres"
   ]
  },
  {
   "cell_type": "code",
   "execution_count": 65,
   "id": "a59fa61e-1e13-410c-9c0b-268af0f5ea05",
   "metadata": {},
   "outputs": [
    {
     "name": "stdout",
     "output_type": "stream",
     "text": [
      "Email: saraLopez@hotmail.c\n",
      "Errores: El dominio tiene que tener entre 2 y 5 caracteres\n",
      "Email: antoniaB ermejo@yahoo.com\n",
      "Errores: No puede tener espacios\n"
     ]
    }
   ],
   "source": [
    "mails = [\"pepePerez@gmail.com\", \"saraLopez@hotmail.c\", \"antoniaB ermejo@yahoo.com\"]\n",
    "errors = [\"No puede tener espacios\", \"Solo puede tener una arroba\", \"Falta punto despues de arroba\", \"Distancia entre arroba y punto tiene que ser de al menos 2 caracteres\", \"El dominio tiene que tener entre 2 y 5 caracteres\"]\n",
    "errorsToShow = []\n",
    "\n",
    "for mail in mails:\n",
    "    if mail.find(\" \") != -1:\n",
    "        errorsToShow.append(errors[0])\n",
    "    if mail.count(\"@\") > 1:\n",
    "        errorsToShow.append(errors[1])\n",
    "    arrPos = mail.find(\"@\")\n",
    "    pPos = mail.rfind(\".\")\n",
    "    if arrPos > pPos:\n",
    "        errorsToShow.append(errors[2])\n",
    "    if pPos - arrPos < 3:\n",
    "        errorsToShow.append(errors[3])\n",
    "    if len(mail) - pPos < 3 or len(mail) - pPos > 6:\n",
    "        errorsToShow.append(errors[4])\n",
    "    for e in errorsToShow:\n",
    "        print(\"Email: \"+ mail)\n",
    "        print(\"Errores: \"+e)\n",
    "    errorsToShow.clear()\n",
    "    "
   ]
  },
  {
   "cell_type": "code",
   "execution_count": null,
   "id": "517f9a19-115f-4922-ba4f-7c13837d37a4",
   "metadata": {},
   "outputs": [],
   "source": []
  }
 ],
 "metadata": {
  "kernelspec": {
   "display_name": "Python 3 (ipykernel)",
   "language": "python",
   "name": "python3"
  },
  "language_info": {
   "codemirror_mode": {
    "name": "ipython",
    "version": 3
   },
   "file_extension": ".py",
   "mimetype": "text/x-python",
   "name": "python",
   "nbconvert_exporter": "python",
   "pygments_lexer": "ipython3",
   "version": "3.9.13"
  }
 },
 "nbformat": 4,
 "nbformat_minor": 5
}
