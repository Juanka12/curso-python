{
 "cells": [
  {
   "cell_type": "markdown",
   "metadata": {},
   "source": [
    "# Ejercicio 6. Programacion Orientada Objetos"
   ]
  },
  {
   "cell_type": "markdown",
   "metadata": {},
   "source": [
    "**Crear la clase Alumno**  \n",
    "-nombre  \n",
    "-apellidos  \n",
    "-dni  \n",
    "-notas: diccionario <K:asignatura, V:nota>  \n",
    "estudiar() --> el alumno <nombre> esta estudiando <asignatura obtenida de manera aleatoria del diccionario>  \n",
    "    \n",
    "**    \n",
    "3 alumnos --> lista -->  \n",
    "    +Nota media de cada alumno --> El alumno <nombre> tiene una nota media de ...  \n",
    "    +Nota media de todos los alumnos --> La nota media de todos los alumnos es ...\n",
    "   \n",
    "Tradicional y usando funciones lambda\n"
   ]
  },
  {
   "cell_type": "code",
   "execution_count": 63,
   "metadata": {},
   "outputs": [],
   "source": [
    "import random\n",
    "\n",
    "class Alumno:\n",
    "    def __init__(self, name, surname, dni):\n",
    "        self.name = name\n",
    "        self.surname = surname\n",
    "        self.dni = dni\n",
    "        self.marks = { \"Maths\": random.randint(1, 10), \"Biology\": random.randint(1, 10), \"English\": random.randint(1, 10)}\n",
    "        \n",
    "    def estudiar(self):\n",
    "        print(\"El alumno \"+ self.name +\" esta estudiando \" + str(list(self.marks.keys())[random.randint(0, len(self.marks)-1)]))\n",
    "        print()\n",
    "        \n",
    "    def sacarMedia(self):\n",
    "        suma = 0\n",
    "        for mark in self.marks.values():\n",
    "            suma += mark\n",
    "        print(\"La nota media de \"+ self.name +\" es \"+str(suma/len(self.marks)))\n",
    "        print()\n",
    "        return suma/len(self.marks)"
   ]
  },
  {
   "cell_type": "code",
   "execution_count": 70,
   "metadata": {},
   "outputs": [
    {
     "name": "stdout",
     "output_type": "stream",
     "text": [
      "El alumno Juan esta estudiando English\n",
      "\n",
      "El alumno Manuel esta estudiando English\n",
      "\n",
      "El alumno Marcos esta estudiando Maths\n",
      "\n",
      "La nota media de Juan es 5.333333333333333\n",
      "\n",
      "La nota media de Manuel es 6.0\n",
      "\n",
      "La nota media de Marcos es 3.6666666666666665\n",
      "\n",
      "La nota media de todos los alumnos es 4.999999999999999\n"
     ]
    }
   ],
   "source": [
    "from functools import reduce\n",
    "\n",
    "alumnos = []\n",
    "medias = []\n",
    "alumno1 = Alumno(\"Juan\", \"Hern\", \"5544S\")\n",
    "alumno2 = Alumno(\"Manuel\", \"Berm\", \"9883T\")\n",
    "alumno3 = Alumno(\"Marcos\", \"Esp\", \"0022K\")\n",
    "alumnos.append(alumno1)\n",
    "alumnos.append(alumno2)\n",
    "alumnos.append(alumno3)\n",
    "list(map(lambda x : x.estudiar(), alumnos))\n",
    "medias = list(map(lambda x : x.sacarMedia(), alumnos))\n",
    "print(\"La nota media de todos los alumnos es \"+str(reduce(lambda a, b : a + b, medias)/len(medias)))"
   ]
  },
  {
   "cell_type": "code",
   "execution_count": null,
   "metadata": {},
   "outputs": [],
   "source": []
  }
 ],
 "metadata": {
  "kernelspec": {
   "display_name": "Python 3 (ipykernel)",
   "language": "python",
   "name": "python3"
  },
  "language_info": {
   "codemirror_mode": {
    "name": "ipython",
    "version": 3
   },
   "file_extension": ".py",
   "mimetype": "text/x-python",
   "name": "python",
   "nbconvert_exporter": "python",
   "pygments_lexer": "ipython3",
   "version": "3.9.13"
  }
 },
 "nbformat": 4,
 "nbformat_minor": 4
}
