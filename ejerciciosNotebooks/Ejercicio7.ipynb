{
 "cells": [
  {
   "cell_type": "markdown",
   "metadata": {},
   "source": [
    "### Ejercicio 7. Composicion. Supermercado"
   ]
  },
  {
   "cell_type": "markdown",
   "metadata": {},
   "source": [
    "-Television  \n",
    "+id  \n",
    "+marca  \n",
    "+pulgadas  \n",
    "+precio\n",
    "\n",
    "-Ordenador  \n",
    "+id  \n",
    "+marca  \n",
    "+capacidad_disco_duro  \n",
    "+ram  \n",
    "+precio  \n",
    "\n",
    "-Monitor  \n",
    "+id  \n",
    "+marca  \n",
    "+pulgadas  \n",
    "+precio\n",
    "\n",
    "-Cliente  \n",
    "+nombre\n",
    "+tipo (VIP o no)\n",
    "+carrito_compra: listado[productos]\n",
    "+pagar()\n",
    "\n",
    "-Cajera  \n",
    "+numero_empleado  \n",
    "+nombre  \n",
    "+atender_cliente()  \n",
    "\n",
    "-Tienda  \n",
    "3 clientes\n",
    "2 cajeras  \n",
    "\n",
    "Cada cliente va llenar la cesta con uno o varios productos  \n",
    "\n",
    "cajeras van a ir atendiendo a los clientes  \n",
    "\n",
    "\n",
    "Si cliente es VIP, 15% en la compra"
   ]
  },
  {
   "cell_type": "code",
   "execution_count": 1,
   "metadata": {},
   "outputs": [],
   "source": [
    "class Producto:\n",
    "    def __init__(self, idd, marca, precio):\n",
    "        self.idd = idd\n",
    "        self.marca = marca\n",
    "        self.precio = precio\n",
    "        \n",
    "    def __str__(self):\n",
    "        return \"ID: {} Marca: {} Precio: {}\".format(self.idd,self.marca,self.precio)"
   ]
  },
  {
   "cell_type": "code",
   "execution_count": 6,
   "metadata": {},
   "outputs": [],
   "source": [
    "class Pantalla(Producto):\n",
    "    def __init__(self, pulgadas, idd, marca, precio):\n",
    "        Producto.__init__(self, idd, marca, precio)\n",
    "        self.pulgadas = pulgadas\n",
    "        \n",
    "    def __str__(self):\n",
    "        return \"ID: {} Marca: {} Pulgadas: {} Precio: {}\".format(self.idd,self.marca,self.pulgadas,self.precio)"
   ]
  },
  {
   "cell_type": "code",
   "execution_count": 3,
   "metadata": {},
   "outputs": [],
   "source": [
    "class Television(Pantalla):\n",
    "    def __init__(self, pulgadas, idd, marca, precio):\n",
    "        Pantalla.__init__(self, pulgadas, idd, marca, precio)\n",
    "        \n",
    "class Monitor(Pantalla):\n",
    "    def __init__(self, pulgadas, idd, marca, precio):\n",
    "        Pantalla.__init__(self, pulgadas, idd, marca, precio)\n",
    "        \n",
    "class Ordenador(Producto):\n",
    "    def __init__(self, hard_drive_size, ram, idd, marca, precio):\n",
    "        Producto.__init__(self, idd, marca, precio)\n",
    "        self.hard_drive_size = hard_drive_size\n",
    "        self.ram = ram"
   ]
  },
  {
   "cell_type": "code",
   "execution_count": 17,
   "metadata": {},
   "outputs": [],
   "source": [
    "import random\n",
    "from functools import reduce\n",
    "\n",
    "class Cliente:\n",
    "    \n",
    "    def __init__(self, nombre, vip):\n",
    "        self.nombre = nombre\n",
    "        self.vip = vip\n",
    "        self.carrito = []\n",
    "        \n",
    "    def Pagar(self):\n",
    "        print(\"El cliente \"+self.nombre+\" ha pagado \"+str(precio))\n",
    "        \n",
    "    def RellenarCarrito(self, productos):\n",
    "        cantidad_productos = random.randint(1, 6)\n",
    "        for i in range(cantidad_productos):\n",
    "            self.carrito.append(random.choice(productos))"
   ]
  },
  {
   "cell_type": "code",
   "execution_count": 21,
   "metadata": {},
   "outputs": [],
   "source": [
    "class Cajera:\n",
    "    def __init__(self, nombre, id_empleado):\n",
    "        self.nombre = nombre\n",
    "        self.id_empleado = id_empleado\n",
    "        \n",
    "    def AtenderCliente(self, cliente):\n",
    "        precio = sum(item.precio for item in cliente.carrito)\n",
    "        if not cliente.vip:\n",
    "            return precio\n",
    "        return (precio * (100 - 15))/100"
   ]
  },
  {
   "cell_type": "code",
   "execution_count": 41,
   "metadata": {},
   "outputs": [],
   "source": [
    "class Tienda:\n",
    "    def __init__(self, cajeras, clientes):\n",
    "        self.cajeras = cajeras\n",
    "        self.clientes = clientes\n",
    "        \n",
    "    def VaciarCola(self):\n",
    "#       sin terminar"
   ]
  },
  {
   "cell_type": "code",
   "execution_count": 43,
   "metadata": {},
   "outputs": [
    {
     "name": "stdout",
     "output_type": "stream",
     "text": [
      "3\n",
      "<__main__.Cliente object at 0x000001FB1A85C220>\n",
      "0\n",
      "1\n",
      "<__main__.Cliente object at 0x000001FB1A85C2B0>\n",
      "2\n",
      "3\n",
      "<__main__.Cliente object at 0x000001FB1A85C820>\n",
      "4\n",
      "5\n"
     ]
    }
   ],
   "source": [
    "producto1 = Television(\"35\", \"1\", \"Sony\", 57)\n",
    "producto2 = Ordenador(\"64\", \"32\", \"2\", \"Asus\", 62)\n",
    "producto3 = Monitor(\"21\", \"3\", \"Samsung\", 24)\n",
    "productos = [producto1, producto2, producto3]\n",
    "\n",
    "cliente1 = Cliente(\"juan\", False)\n",
    "cliente2 = Cliente(\"anton\", False)\n",
    "cliente3 = Cliente(\"luc\", True)\n",
    "clientes = [cliente1, cliente2, cliente3]\n",
    "for cliente in clientes:\n",
    "    cliente.RellenarCarrito(productos)\n",
    "\n",
    "cajera1 = Cajera(\"andrea\", \"001\")\n",
    "cajera2 = Cajera(\"pepa\", \"002\")\n",
    "cajeras = [cajera1, cajera2]\n",
    "\n",
    "tienda = Tienda(cajeras, clientes)\n",
    "tienda.VaciarCola()"
   ]
  },
  {
   "cell_type": "code",
   "execution_count": null,
   "metadata": {},
   "outputs": [],
   "source": []
  }
 ],
 "metadata": {
  "kernelspec": {
   "display_name": "Python 3 (ipykernel)",
   "language": "python",
   "name": "python3"
  },
  "language_info": {
   "codemirror_mode": {
    "name": "ipython",
    "version": 3
   },
   "file_extension": ".py",
   "mimetype": "text/x-python",
   "name": "python",
   "nbconvert_exporter": "python",
   "pygments_lexer": "ipython3",
   "version": "3.9.13"
  }
 },
 "nbformat": 4,
 "nbformat_minor": 4
}
