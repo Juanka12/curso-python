{
 "cells": [
  {
   "cell_type": "code",
   "execution_count": 1,
   "id": "11609f59-5c10-400c-84d1-ce3c127372bb",
   "metadata": {},
   "outputs": [],
   "source": [
    "class Personal:\n",
    "    def __init__(self, nombre, identificador):\n",
    "        self.nombre = nombre\n",
    "        self.identificador = identificador\n",
    "        \n",
    "    def Fichar(self):\n",
    "        print(\"El trabajador {} con identificador {} ha fichado.\".format(self.nombre, self.identificador))"
   ]
  },
  {
   "cell_type": "code",
   "execution_count": 52,
   "id": "08080fb6-a6af-4c47-880a-5ec7c1097116",
   "metadata": {},
   "outputs": [],
   "source": [
    "import random\n",
    "from enum import Enum\n",
    "\n",
    "class Enfermedad(Enum):\n",
    "    Covid = 1\n",
    "    Bronquitis = 2\n",
    "    Resfriado = 3\n",
    "    Varicela = 4\n",
    "    Alergia = 5\n",
    "\n",
    "class Doctor(Personal):\n",
    "    def __init__(self, especialidad, nombre, identificador):\n",
    "        Personal.__init__(self, nombre, identificador)\n",
    "        self.especialidad = especialidad\n",
    "        \n",
    "    def Diagnosticar(self, paciente):\n",
    "        print(\"El doctor {} diagnostica al paciente {}.\".format(self.nombre, paciente.nombre))\n",
    "        if random.randint(1, 10) >= 7:\n",
    "            enfermedad = Enfermedad(random.randint(1,2)).name\n",
    "            print(\"El paciente esta enfermo de {}.\".format(enfermedad))\n",
    "            return Enfermo(enfermedad, paciente.nombre, paciente.sintomas)\n",
    "        return paciente\n",
    "        \n",
    "class Enfermero(Personal):\n",
    "    def __init__(self, planta, nombre, identificador):\n",
    "        Personal.__init__(self, nombre, identificador)\n",
    "        self.planta = planta"
   ]
  },
  {
   "cell_type": "code",
   "execution_count": 3,
   "id": "a749575c-12f3-4beb-8e85-2b8a9557eed2",
   "metadata": {},
   "outputs": [],
   "source": [
    "class Paciente:\n",
    "    def __init__(self, nombre, sintomas):\n",
    "        self.nombre = nombre\n",
    "        self.sintomas = sintomas"
   ]
  },
  {
   "cell_type": "code",
   "execution_count": 4,
   "id": "bbba98cf-fabb-42da-a870-3ce317bb3297",
   "metadata": {},
   "outputs": [],
   "source": [
    "class Enfermo(Paciente):\n",
    "    def __init__(self, enfermedad, nombre, sintomas):\n",
    "        Paciente.__init__(self, nombre, sintomas)\n",
    "        self.enfermedad = enfermedad"
   ]
  },
  {
   "cell_type": "code",
   "execution_count": 21,
   "id": "78a6266c-1c73-44dc-9e79-e0cdfe4a9f82",
   "metadata": {},
   "outputs": [],
   "source": [
    "class Consulta:\n",
    "    def __init__(self, doctor):\n",
    "        self.doctor = doctor\n",
    "        \n",
    "    def PasarConsulta(self, paciente):\n",
    "        print(\"El paciente {} pasa a consulta.\".format(paciente.nombre))\n",
    "        npaciente = self.doctor.Diagnosticar(paciente)\n",
    "        if type(npaciente) is Enfermo:\n",
    "            print(\"El paciente {} pasara a una habitacion.\".format(npaciente.nombre))\n",
    "        else:\n",
    "            print(\"El paciente {} no estaba enfermo, para casa.\".format(paciente.nombre))"
   ]
  },
  {
   "cell_type": "code",
   "execution_count": 42,
   "id": "57a36d7a-5f90-41e7-9b9b-a42a1b51047b",
   "metadata": {},
   "outputs": [],
   "source": [
    "class Hospital:\n",
    "    def __init__(self, nombre, personal, sala_espera):\n",
    "        self.personal = personal\n",
    "        self.consultas = []\n",
    "        self.sala_espera = sala_espera\n",
    "        self.doctores = []\n",
    "        self.enfermeros = []\n",
    "        self.SepararPersonal()\n",
    "        \n",
    "    def SepararPersonal(self):\n",
    "        for persona in self.personal:\n",
    "            if type(persona) is Doctor:\n",
    "                self.doctores.append(persona)\n",
    "                self.consultas.append(Consulta(persona))\n",
    "            else:\n",
    "                self.enfermeros.append(persona)\n",
    "    \n",
    "    def IniciarJornada(self):\n",
    "        print(\"Iniciando jornada.\")\n",
    "        for persona in self.personal:\n",
    "            persona.Fichar()\n",
    "        self.AtenderPacientes()\n",
    "        \n",
    "    def AtenderPacientes(self):\n",
    "        while len(self.sala_espera) > 0:\n",
    "            for i, persona in enumerate(self.enfermeros):\n",
    "                paciente = self.sala_espera.pop(0)\n",
    "                print()\n",
    "                print(\"Enfermero {} lleva a paciente {} a la consulta {}.\".format(persona.nombre, paciente.nombre, i+1))\n",
    "                self.consultas[i].PasarConsulta(paciente)"
   ]
  },
  {
   "cell_type": "code",
   "execution_count": 53,
   "id": "3208894c-fe6f-4e7d-9057-65cba7e59fb2",
   "metadata": {},
   "outputs": [
    {
     "name": "stdout",
     "output_type": "stream",
     "text": [
      "Iniciando jornada.\n",
      "El trabajador Antonio con identificador 001 ha fichado.\n",
      "El trabajador Paco con identificador 002 ha fichado.\n",
      "El trabajador Pedro con identificador 003 ha fichado.\n",
      "El trabajador Alfonso con identificador 004 ha fichado.\n",
      "\n",
      "Enfermero Pedro lleva a paciente Alex a la consulta 1.\n",
      "El paciente Alex pasa a consulta.\n",
      "El doctor Antonio diagnostica al paciente Alex.\n",
      "El paciente Alex no estaba enfermo, para casa.\n",
      "\n",
      "Enfermero Alfonso lleva a paciente Ana a la consulta 2.\n",
      "El paciente Ana pasa a consulta.\n",
      "El doctor Paco diagnostica al paciente Ana.\n",
      "El paciente esta enfermo de Bronquitis.\n",
      "El paciente Ana pasara a una habitacion.\n",
      "\n",
      "Enfermero Pedro lleva a paciente Andrea a la consulta 1.\n",
      "El paciente Andrea pasa a consulta.\n",
      "El doctor Antonio diagnostica al paciente Andrea.\n",
      "El paciente Andrea no estaba enfermo, para casa.\n",
      "\n",
      "Enfermero Alfonso lleva a paciente Carlos a la consulta 2.\n",
      "El paciente Carlos pasa a consulta.\n",
      "El doctor Paco diagnostica al paciente Carlos.\n",
      "El paciente esta enfermo de Covid.\n",
      "El paciente Carlos pasara a una habitacion.\n"
     ]
    }
   ],
   "source": [
    "doctor1 = Doctor(\"Cardiologo\", \"Antonio\", \"001\")\n",
    "doctor2 = Doctor(\"Neurologo\", \"Paco\", \"002\")\n",
    "enfermero1 = Enfermero(\"1\", \"Pedro\", \"003\")\n",
    "enfermero2 = Enfermero(\"2\", \"Alfonso\", \"004\")\n",
    "personal = [doctor1, doctor2, enfermero1, enfermero2]\n",
    "\n",
    "paciente1 = Paciente(\"Alex\", \"Tos\")\n",
    "paciente2 = Paciente(\"Ana\", \"Dolor de cabeza\")\n",
    "paciente3 = Paciente(\"Andrea\", \"Hinchazon\")\n",
    "paciente4 = Paciente(\"Carlos\", \"Mareo\")\n",
    "pacientes = [paciente1, paciente2, paciente3, paciente4]\n",
    "\n",
    "hospital = Hospital(\"San Juan\", personal, pacientes)\n",
    "hospital.IniciarJornada()"
   ]
  },
  {
   "cell_type": "code",
   "execution_count": null,
   "id": "4de5617f-799a-4ed0-9aeb-8d53ad3a171b",
   "metadata": {},
   "outputs": [],
   "source": []
  }
 ],
 "metadata": {
  "kernelspec": {
   "display_name": "Python 3 (ipykernel)",
   "language": "python",
   "name": "python3"
  },
  "language_info": {
   "codemirror_mode": {
    "name": "ipython",
    "version": 3
   },
   "file_extension": ".py",
   "mimetype": "text/x-python",
   "name": "python",
   "nbconvert_exporter": "python",
   "pygments_lexer": "ipython3",
   "version": "3.9.13"
  }
 },
 "nbformat": 4,
 "nbformat_minor": 5
}
