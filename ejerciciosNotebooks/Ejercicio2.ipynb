{
 "cells": [
  {
   "cell_type": "markdown",
   "id": "08241e15-b360-42ea-9c8c-da0f09473cad",
   "metadata": {},
   "source": [
    "## Ejercicio2"
   ]
  },
  {
   "cell_type": "markdown",
   "id": "fb739bf0-ae3a-4a52-8429-c36fa1b1ca07",
   "metadata": {},
   "source": [
    "1. Pintar cuadrado\n",
    "indicar tamaño cuadrado: 4"
   ]
  },
  {
   "cell_type": "code",
   "execution_count": 35,
   "id": "7dfcd586-1f09-4449-ac21-368c488f4c12",
   "metadata": {},
   "outputs": [
    {
     "name": "stdout",
     "output_type": "stream",
     "text": [
      "1. Pintar cuadrado\n",
      "2. Validar email\n",
      "3. Insertar alumnos\n",
      "4. Salir\n"
     ]
    },
    {
     "name": "stdin",
     "output_type": "stream",
     "text": [
      "Introduce una opcion:  1\n"
     ]
    },
    {
     "name": "stdout",
     "output_type": "stream",
     "text": [
      "Has seleccionado la opcion 1\n"
     ]
    },
    {
     "name": "stdin",
     "output_type": "stream",
     "text": [
      "Introduce un tamaño para base:  4\n",
      "Introduce un tamaño para altura:  5\n"
     ]
    },
    {
     "name": "stdout",
     "output_type": "stream",
     "text": [
      "X  X  X  X  X  \n",
      "X           X  \n",
      "X           X  \n",
      "X  X  X  X  X  \n",
      "1. Pintar cuadrado\n",
      "2. Validar email\n",
      "3. Insertar alumnos\n",
      "4. Salir\n"
     ]
    },
    {
     "name": "stdin",
     "output_type": "stream",
     "text": [
      "Introduce una opcion:  4\n"
     ]
    },
    {
     "name": "stdout",
     "output_type": "stream",
     "text": [
      "Has seleccionado la opcion 4.\n",
      "Adios\n"
     ]
    }
   ],
   "source": [
    " completed = False\n",
    "while not completed:\n",
    "    print(\"1. Pintar cuadrado\")\n",
    "    print(\"2. Validar email\")\n",
    "    print(\"3. Insertar alumnos\")\n",
    "    print(\"4. Salir\")\n",
    "    option = int(input(\"Introduce una opcion: \"))\n",
    "    if option == 1:\n",
    "        print(\"Has seleccionado la opcion 1\")\n",
    "        base = int(input(\"Introduce un tamaño para base: \"))\n",
    "        height = int(input(\"Introduce un tamaño para altura: \"))\n",
    "        for x in range(base):\n",
    "            for y in range(height):\n",
    "                if x == 0 or x == base-1 or y == 0 or y == height-1:\n",
    "                    print('X', end = '  ')\n",
    "                else:\n",
    "                    print(' ', end = '  ')\n",
    "            print()\n",
    "    elif option == 2:\n",
    "        print(\"Has seleccionado la opcion 2\")\n",
    "    elif option == 3:\n",
    "        print(\"Has seleccionado la opcion 3\")\n",
    "    elif option == 4:\n",
    "        print(\"Has seleccionado la opcion 4.\")\n",
    "        completed = True\n",
    "    else:\n",
    "        print(\"Opcion incorrecta\")\n",
    "else:\n",
    "    print(\"Adios\")"
   ]
  },
  {
   "cell_type": "code",
   "execution_count": null,
   "id": "abd2f2b2-04b8-43fb-b747-cbebae1433d1",
   "metadata": {},
   "outputs": [],
   "source": []
  }
 ],
 "metadata": {
  "kernelspec": {
   "display_name": "Python 3 (ipykernel)",
   "language": "python",
   "name": "python3"
  },
  "language_info": {
   "codemirror_mode": {
    "name": "ipython",
    "version": 3
   },
   "file_extension": ".py",
   "mimetype": "text/x-python",
   "name": "python",
   "nbconvert_exporter": "python",
   "pygments_lexer": "ipython3",
   "version": "3.9.13"
  }
 },
 "nbformat": 4,
 "nbformat_minor": 5
}
