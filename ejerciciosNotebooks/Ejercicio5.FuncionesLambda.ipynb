{
 "cells": [
  {
   "cell_type": "markdown",
   "metadata": {},
   "source": [
    "## Ejercicio5. Funciones Lambda"
   ]
  },
  {
   "cell_type": "markdown",
   "metadata": {},
   "source": [
    "A partir del siguiente listado de emails:\n",
    "lista_emails = [\"asdasdas.es\",\"asdas asdsdsa@sda.e\",\"asdasd@asdas@asdsad.es\", \"asdad@a.es\", \"a sgsdfsd@a.esfa.sfasdf\", \"asdas.dasd@as.dsfd.as.es \"]\n",
    "- obtener, los nombres de usuario de aquellos emails que sean validos (valido: 1@, no tiene espacios en blanco, despues de la @ hay 1 punto)\n",
    "- indicar el número de emails validos que hay dentro del listado\n"
   ]
  },
  {
   "cell_type": "code",
   "execution_count": 59,
   "metadata": {},
   "outputs": [
    {
     "name": "stdout",
     "output_type": "stream",
     "text": [
      "Emails validos: 2\n",
      "Emails validos: 2\n",
      "Usuarios: uyuyuyu, asdad\n"
     ]
    }
   ],
   "source": [
    "from functools import reduce\n",
    "\n",
    "lista_emails = [\"asdasdas.es\", \"asdas asdsdsa@sda.e\", \"uyuyuyu@ut.es\", \"asdasd@asdas@asdsad.es\", \"asdad@a.es\", \"a sgsdfsd@a.esfa.sfasdf\", \"asdas.dasd@as.dsfd.as.es \"]\n",
    "emails_validos = list(filter(lambda x : not \" \" in x, lista_emails))\n",
    "emails_validos = list(filter(lambda x : x.count(\"@\") == 1, emails_validos))\n",
    "emails_validos = list(filter(lambda x : x.find(\"@\") < x.find(\".\"), emails_validos))\n",
    "usuarios = (list(map(lambda x : x.split(\"@\")[0], emails_validos)))\n",
    "print(\"Emails validos: \"+ str(len(emails_validos)))\n",
    "print(\"Emails validos: \"+ str(reduce(lambda x, y : x + 1, emails_validos, 0)))\n",
    "print(\"Usuarios: \"+\", \".join(usuarios))"
   ]
  },
  {
   "cell_type": "code",
   "execution_count": null,
   "metadata": {},
   "outputs": [],
   "source": []
  }
 ],
 "metadata": {
  "kernelspec": {
   "display_name": "Python 3 (ipykernel)",
   "language": "python",
   "name": "python3"
  },
  "language_info": {
   "codemirror_mode": {
    "name": "ipython",
    "version": 3
   },
   "file_extension": ".py",
   "mimetype": "text/x-python",
   "name": "python",
   "nbconvert_exporter": "python",
   "pygments_lexer": "ipython3",
   "version": "3.9.13"
  }
 },
 "nbformat": 4,
 "nbformat_minor": 4
}
